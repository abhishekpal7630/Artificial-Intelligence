{
  "nbformat": 4,
  "nbformat_minor": 0,
  "metadata": {
    "colab": {
      "name": "Web Crawler.ipynb",
      "provenance": [],
      "authorship_tag": "ABX9TyM9PU/TGP/yYVKgm10p7SJQ",
      "include_colab_link": true
    },
    "kernelspec": {
      "name": "python3",
      "display_name": "Python 3"
    },
    "language_info": {
      "name": "python"
    }
  },
  "cells": [
    {
      "cell_type": "markdown",
      "metadata": {
        "id": "view-in-github",
        "colab_type": "text"
      },
      "source": [
        "<a href=\"https://colab.research.google.com/github/abhishekpal7630/Artificial-Intelligence/blob/main/Web_Crawler.ipynb\" target=\"_parent\"><img src=\"https://colab.research.google.com/assets/colab-badge.svg\" alt=\"Open In Colab\"/></a>"
      ]
    },
    {
      "cell_type": "code",
      "execution_count": 1,
      "metadata": {
        "id": "tlTDeVmDNauu"
      },
      "outputs": [],
      "source": [
        "import requests\n",
        "import re"
      ]
    },
    {
      "cell_type": "code",
      "source": [
        "class WebCrawler:\n",
        "  def __init__(self):\n",
        "    self.discovered_websited=[]\n",
        "  def crawl(self,start_url):\n",
        "    queue=[start_url]\n",
        "    self.discovered_websited.append(start_url)\n",
        "    while queue:\n",
        "      actual_url=queue.pop(0)\n",
        "      print(actual_url)\n",
        "      actual_url_raw_html=self.raw_html(actual_url)\n",
        "      for url in self.get_links(actual_url_raw_html):\n",
        "        if url not in self.discovered_websited:\n",
        "          queue.append(url)\n",
        "          self.discovered_websited.append(url)\n",
        "  \n",
        "  def get_links(self, url):\n",
        "    return re.findall(\"https?://(?:[-\\w.]|(?:%[\\da-fA-F]{2}))+\",url)\n",
        "  def raw_html(self,page):\n",
        "    raw=''\n",
        "    try:\n",
        "      raw=requests.get(page).text\n",
        "    except Exception as e:\n",
        "      pass\n",
        "    return raw\n",
        "if __name__=='__main__':\n",
        "  crawler=WebCrawler()\n",
        "  crawler.crawl('https://www.cnn.com')"
      ],
      "metadata": {
        "colab": {
          "base_uri": "https://localhost:8080/"
        },
        "id": "pIhcs4LtNhoR",
        "outputId": "c32b98c8-60a4-4a82-e1ee-4f3a8ac0e0b6"
      },
      "execution_count": null,
      "outputs": [
        {
          "output_type": "stream",
          "name": "stdout",
          "text": [
            "https://www.cnn.com\n",
            "https://www.googletagservices.com\n",
            "https://c.amazon-adsystem.com\n",
            "https://cdn.cookielaw.org\n",
            "https://edition.cnn.com\n",
            "https://plus.google.com\n",
            "http://go.cnn.com\n",
            "http://cnn.it\n",
            "https://tvem.cdn.turner.com\n",
            "https://edition.i.cdn.cnn.com\n",
            "https://s3.amazonaws.com\n",
            "https://us.cnn.com\n",
            "https://bulletin.cnn.io\n",
            "http://searchapp.cnn.com\n",
            "https://cdn.segment.com\n",
            "https://audience.cnn.com\n",
            "https://s.flocdn.com\n",
            "https://www.warnermediaprivacy.com\n",
            "https://turneraffiliates.turner.com\n",
            "https://cnn.com\n",
            "https://www.google.com\n",
            "https://www.mozilla.org\n",
            "https://support.apple.com\n",
            "https://www.microsoft.com\n",
            "http://localhost.cnn.com\n",
            "https://registry.api.cnn.io\n",
            "https://get.adobe.com\n",
            "https://fave.api.cnn.io\n",
            "http://edition.cnn.com\n",
            "https://urldefense.com\n",
            "https://twitter.com\n",
            "http://www.cnn.com\n",
            "https://www.rcpsych.ac.uk\n",
            "https://mailcar.cnn.io\n",
            "https://mailcar.ui.cnn.io\n",
            "https://www.w3.org\n",
            "https://www.turnerjobs.com\n",
            "https://commercial.cnn.com\n",
            "http://cnnnewsource.com\n",
            "https://money.cnn.com\n",
            "https://www.cnnmoney.ch\n",
            "https://bleacherreport.com\n",
            "https://secure.quantserve.com\n",
            "http://edge.quantserve.com\n",
            "https://www.dianomi.com\n",
            "https://accounts.google.com\n",
            "https://www.gstatic.com\n",
            "https://support.google.com\n",
            "http://www.w3.org\n",
            "https://a0.awsstatic.com\n",
            "https://112-tzm-766.mktoresp.com\n",
            "https://112-tzm-766.mktoutil.com\n",
            "https://a0.p.awsstatic.com\n",
            "https://a1.awsstatic.com\n",
            "https://amazonwebservices.d2.sc.omtrdc.net\n",
            "https://amazonwebservicesinc.tt.omtrdc.net\n",
            "https://api.regional-table.region-services.aws.a2z.com\n",
            "https://api.us-west-2.prod.pricing.aws.a2z.com\n",
            "https://aws.amazon.com\n",
            "https://aws.demdex.net\n",
            "https://b0.p.awsstatic.com\n",
            "https://c0.b0.p.awsstatic.com\n",
            "https://calculator.aws\n",
            "https://chatbot-api.us-east-1.prod.mrc-sunrise.marketing.aws.dev\n",
            "https://cm.everesttech.net\n",
            "https://csml-plc-prod.us-west-2.api.aws\n",
            "https://d0.awsstatic.com\n",
            "https://d1.awsstatic.com\n",
            "https://d1fgizr415o1r6.cloudfront.net\n",
            "https://d2c.aws.amazon.com\n",
            "https://d3borx6sfvnesb.cloudfront.net\n",
            "https://dc.ads.linkedin.com\n",
            "https://dftu77xade0tc.cloudfront.net\n",
            "https://dpm.demdex.net\n"
          ]
        }
      ]
    },
    {
      "cell_type": "code",
      "source": [
        ""
      ],
      "metadata": {
        "id": "gr_WXcD2T9xV"
      },
      "execution_count": null,
      "outputs": []
    }
  ]
}