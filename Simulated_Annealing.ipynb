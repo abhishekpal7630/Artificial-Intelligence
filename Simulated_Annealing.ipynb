{
  "nbformat": 4,
  "nbformat_minor": 0,
  "metadata": {
    "colab": {
      "name": "Simulated Annealing.ipynb",
      "provenance": [],
      "authorship_tag": "ABX9TyM+a1xxUcmMIgn4uCrOPb51",
      "include_colab_link": true
    },
    "kernelspec": {
      "name": "python3",
      "display_name": "Python 3"
    },
    "language_info": {
      "name": "python"
    }
  },
  "cells": [
    {
      "cell_type": "markdown",
      "metadata": {
        "id": "view-in-github",
        "colab_type": "text"
      },
      "source": [
        "<a href=\"https://colab.research.google.com/github/abhishekpal7630/Artificial-Intelligence/blob/main/Simulated_Annealing.ipynb\" target=\"_parent\"><img src=\"https://colab.research.google.com/assets/colab-badge.svg\" alt=\"Open In Colab\"/></a>"
      ]
    },
    {
      "cell_type": "code",
      "execution_count": 27,
      "metadata": {
        "colab": {
          "base_uri": "https://localhost:8080/"
        },
        "id": "avAaIqhX1Za-",
        "outputId": "056df90f-edf2-4dbd-90ff-407eecd16717"
      },
      "outputs": [
        {
          "output_type": "stream",
          "name": "stdout",
          "text": [
            "Global Maximum is at -1.2786044767865814  and the value is 2.093981916080204\n"
          ]
        }
      ],
      "source": [
        "from random import random\n",
        "import numpy as np\n",
        "\n",
        "\n",
        "class SimulatedAnnealing:\n",
        "\n",
        "  def f(self,x):\n",
        "    self.x=x\n",
        "    return (self.x-0.3)*(self.x-0.3)*(self.x-0.3)-5*self.x+self.x*self.x-2\n",
        "\n",
        "  def __init__(self,min_c,max_c,min_temp,max_temp,cooling_rate=0.04):\n",
        "    self.min_c=min_c\n",
        "    self.max_c=max_c\n",
        "    self.max_temp=max_temp\n",
        "    self.min_temp=min_temp\n",
        "    self.cooling_rate=cooling_rate\n",
        "    \n",
        "    self.actual_state=0\n",
        "    self.best_state=0\n",
        "\n",
        "  def run(self):\n",
        "    temp=self.max_temp\n",
        "\n",
        "    while temp>self.min_temp:\n",
        "      self.new_state=self.generate_next_state()\n",
        "\n",
        "      actual_energy=self.f(self.actual_state)\n",
        "      new_energy=self.f(self.new_state)\n",
        "\n",
        "      if random()<self.accept_prob(actual_energy,new_energy,temp):\n",
        "        self.actual_state=self.new_state\n",
        "\n",
        "      if self.f(self.actual_state)>self.f(self.best_state):\n",
        "        self.best_state=self.actual_state\n",
        "\n",
        "      temp=temp*(1-self.cooling_rate)\n",
        "    print('Global Maximum is at %s'% (self.best_state),' and the value is %s'%(self.f(self.best_state)))\n",
        "\n",
        "  \n",
        "  def generate_next_state(self):\n",
        "    return self.min_c+(self.max_c-self.min_c)*random()\n",
        "\n",
        "  \n",
        "  def accept_prob(self,actual_energy,new_energy,temp):\n",
        "\n",
        "    if new_energy>actual_energy:\n",
        "      return 1\n",
        "\n",
        "    return np.exp((actual_energy-new_energy)/temp)\n",
        "\n",
        "if __name__==\"__main__\":\n",
        "  algo=SimulatedAnnealing(-2,2,1,100)\n",
        "  algo.run()\n",
        "\n"
      ]
    }
  ]
}